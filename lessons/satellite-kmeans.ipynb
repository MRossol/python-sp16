{
 "cells": [
  {
   "cell_type": "markdown",
   "metadata": {},
   "source": [
    "---\n",
    "<a id='colorspace'></a>\n",
    "## Color-Space Segmentation Using K-Means Clustering\n",
    "\n",
    "Color is an extremely sophisticated notion.  It unifies the physical wavelength of light, the biological expression of cell distribution and pigment receptors in the eye, the neurological interpretation of the resulting optic signal, and the psychological factors of culture and perception<sup>[[ref]](https://en.wikipedia.org/wiki/Opponent_process)</sup>.  Unsurprisingly, there are a lot of different ways to represent colors.  Color spaces represent different colors according to essentially different orthogonal bases.  For instance, you’re probably familiar with $RGB$ v. $CMYK$ color spaces.\n",
    "\n",
    "<table>\n",
    "<tr>\n",
    "<td><img src=\"https://upload.wikimedia.org/wikipedia/commons/thumb/c/c2/AdditiveColor.svg/240px-AdditiveColor.svg.png\" /></td>\n",
    "<td><img src=\"https://upload.wikimedia.org/wikipedia/commons/thumb/1/19/SubtractiveColor.svg/240px-SubtractiveColor.svg.png\" /></td>\n",
    "</tr>\n",
    "</table>\n",
    "\n",
    "But there are many others, such as [$Lab$](https://en.wikipedia.org/wiki/Lab_color_space) and [$XYZ$](https://en.wikipedia.org/wiki/CIE_1931_color_space).  These color spaces do not necessarily cover the same range of [perceptible colors]() (or [imperceptible ones!](https://en.wikipedia.org/wiki/Impossible_color)), but transformations between spaces [can still be defined](http://www.brucelindbloom.com/Math.html).  We will use this below to convert between $RGB$ and $Lab$.\n",
    "\n",
    "$Lab$ was designed to replicate human vision, and exploits the fact that in a sense there are [four fundamental colors](https://en.wikipedia.org/wiki/Opponent_process) that the human eye can perceive:  a red-green axis $a$ and a blue-yellow axis $b$.  Adding luminosity $L$ to these chromaticity axes yields a three-parameter color space that is actually more expressive than can be represented by $RGB$ triplets."
   ]
  },
  {
   "cell_type": "code",
   "execution_count": 1,
   "metadata": {
    "collapsed": false
   },
   "outputs": [
    {
     "ename": "FileNotFoundError",
     "evalue": "[Errno 2] No such file or directory: 'satellite.png'",
     "output_type": "error",
     "traceback": [
      "\u001b[0;31m---------------------------------------------------------------------------\u001b[0m",
      "\u001b[0;31mFileNotFoundError\u001b[0m                         Traceback (most recent call last)",
      "\u001b[0;32m<ipython-input-1-c08998be87c4>\u001b[0m in \u001b[0;36m<module>\u001b[0;34m()\u001b[0m\n\u001b[1;32m     18\u001b[0m \u001b[0;31m# Read image and convert it from RGB to Lab representation.\u001b[0m\u001b[0;34m\u001b[0m\u001b[0;34m\u001b[0m\u001b[0m\n\u001b[1;32m     19\u001b[0m \u001b[0;32mfrom\u001b[0m \u001b[0mpylab\u001b[0m \u001b[0;32mimport\u001b[0m \u001b[0mimread\u001b[0m\u001b[0;34m,\u001b[0m \u001b[0mimshow\u001b[0m\u001b[0;34m,\u001b[0m \u001b[0mgray\u001b[0m\u001b[0;34m,\u001b[0m \u001b[0mmean\u001b[0m\u001b[0;34m\u001b[0m\u001b[0m\n\u001b[0;32m---> 20\u001b[0;31m \u001b[0msat_rgb\u001b[0m \u001b[0;34m=\u001b[0m \u001b[0mimread\u001b[0m\u001b[0;34m(\u001b[0m\u001b[0;34m'satellite.png'\u001b[0m\u001b[0;34m)\u001b[0m\u001b[0;34m\u001b[0m\u001b[0m\n\u001b[0m\u001b[1;32m     21\u001b[0m \u001b[0mplt\u001b[0m\u001b[0;34m.\u001b[0m\u001b[0mfigure\u001b[0m\u001b[0;34m(\u001b[0m\u001b[0;34m)\u001b[0m\u001b[0;34m\u001b[0m\u001b[0m\n\u001b[1;32m     22\u001b[0m \u001b[0mplt\u001b[0m\u001b[0;34m.\u001b[0m\u001b[0mxticks\u001b[0m\u001b[0;34m(\u001b[0m\u001b[0;34m[\u001b[0m\u001b[0;34m]\u001b[0m\u001b[0;34m)\u001b[0m\u001b[0;34m\u001b[0m\u001b[0m\n",
      "\u001b[0;32m/Users/rstein/anaconda/lib/python3.4/site-packages/matplotlib/pyplot.py\u001b[0m in \u001b[0;36mimread\u001b[0;34m(*args, **kwargs)\u001b[0m\n\u001b[1;32m   2213\u001b[0m \u001b[0;34m@\u001b[0m\u001b[0mdocstring\u001b[0m\u001b[0;34m.\u001b[0m\u001b[0mcopy_dedent\u001b[0m\u001b[0;34m(\u001b[0m\u001b[0m_imread\u001b[0m\u001b[0;34m)\u001b[0m\u001b[0;34m\u001b[0m\u001b[0m\n\u001b[1;32m   2214\u001b[0m \u001b[0;32mdef\u001b[0m \u001b[0mimread\u001b[0m\u001b[0;34m(\u001b[0m\u001b[0;34m*\u001b[0m\u001b[0margs\u001b[0m\u001b[0;34m,\u001b[0m \u001b[0;34m**\u001b[0m\u001b[0mkwargs\u001b[0m\u001b[0;34m)\u001b[0m\u001b[0;34m:\u001b[0m\u001b[0;34m\u001b[0m\u001b[0m\n\u001b[0;32m-> 2215\u001b[0;31m     \u001b[0;32mreturn\u001b[0m \u001b[0m_imread\u001b[0m\u001b[0;34m(\u001b[0m\u001b[0;34m*\u001b[0m\u001b[0margs\u001b[0m\u001b[0;34m,\u001b[0m \u001b[0;34m**\u001b[0m\u001b[0mkwargs\u001b[0m\u001b[0;34m)\u001b[0m\u001b[0;34m\u001b[0m\u001b[0m\n\u001b[0m\u001b[1;32m   2216\u001b[0m \u001b[0;34m\u001b[0m\u001b[0m\n\u001b[1;32m   2217\u001b[0m \u001b[0;34m\u001b[0m\u001b[0m\n",
      "\u001b[0;32m/Users/rstein/anaconda/lib/python3.4/site-packages/matplotlib/image.py\u001b[0m in \u001b[0;36mimread\u001b[0;34m(fname, format)\u001b[0m\n\u001b[1;32m   1265\u001b[0m     \u001b[0;31m# tricky in C.\u001b[0m\u001b[0;34m\u001b[0m\u001b[0;34m\u001b[0m\u001b[0m\n\u001b[1;32m   1266\u001b[0m     \u001b[0;32mif\u001b[0m \u001b[0mcbook\u001b[0m\u001b[0;34m.\u001b[0m\u001b[0mis_string_like\u001b[0m\u001b[0;34m(\u001b[0m\u001b[0mfname\u001b[0m\u001b[0;34m)\u001b[0m\u001b[0;34m:\u001b[0m\u001b[0;34m\u001b[0m\u001b[0m\n\u001b[0;32m-> 1267\u001b[0;31m         \u001b[0;32mwith\u001b[0m \u001b[0mopen\u001b[0m\u001b[0;34m(\u001b[0m\u001b[0mfname\u001b[0m\u001b[0;34m,\u001b[0m \u001b[0;34m'rb'\u001b[0m\u001b[0;34m)\u001b[0m \u001b[0;32mas\u001b[0m \u001b[0mfd\u001b[0m\u001b[0;34m:\u001b[0m\u001b[0;34m\u001b[0m\u001b[0m\n\u001b[0m\u001b[1;32m   1268\u001b[0m             \u001b[0;32mreturn\u001b[0m \u001b[0mhandler\u001b[0m\u001b[0;34m(\u001b[0m\u001b[0mfd\u001b[0m\u001b[0;34m)\u001b[0m\u001b[0;34m\u001b[0m\u001b[0m\n\u001b[1;32m   1269\u001b[0m     \u001b[0;32melse\u001b[0m\u001b[0;34m:\u001b[0m\u001b[0;34m\u001b[0m\u001b[0m\n",
      "\u001b[0;31mFileNotFoundError\u001b[0m: [Errno 2] No such file or directory: 'satellite.png'"
     ]
    }
   ],
   "source": [
    "import numpy as np\n",
    "import scipy as sp\n",
    "import matplotlib as mpl\n",
    "import matplotlib.pyplot as plt\n",
    "import matplotlib.cm as cm\n",
    "\n",
    "from sklearn.feature_extraction import image\n",
    "from sklearn.cluster import spectral_clustering\n",
    "from sklearn.cluster import KMeans\n",
    "%matplotlib inline\n",
    "\n",
    "from colormath.color_objects import LabColor, sRGBColor\n",
    "from colormath.color_conversions import convert_color\n",
    "rgbize = np.vectorize(sRGBColor)\n",
    "convertize = np.vectorize(convert_color)\n",
    "\n",
    "# Inspired by an example at http://www.mathworks.com/help/images/examples/color-based-segmentation-using-k-means-clustering.html\n",
    "# Read image and convert it from RGB to Lab representation.\n",
    "from pylab import imread, imshow, gray, mean\n",
    "sat_rgb = imread('satellite.png')\n",
    "plt.figure()\n",
    "plt.xticks([])\n",
    "plt.yticks([])\n",
    "imshow(sat_rgb)\n",
    "sat_rgb_cs = rgbize(sat_rgb[:,:,0],sat_rgb[:,:,1],sat_rgb[:,:,2])\n",
    "sat_lab_cs = convertize(sat_rgb_cs, LabColor)\n",
    "\n",
    "sat_lab = np.ones((sat_lab_cs.shape[0], sat_lab_cs.shape[1], 4))\n",
    "for i in range(sat_lab_cs.shape[0]):\n",
    "    for j in range(sat_lab_cs.shape[1]):\n",
    "        sat_lab[i,j,0] = sat_lab_cs[i,j].lab_l/200+100 #rgb_r\n",
    "        sat_lab[i,j,1] = sat_lab_cs[i,j].lab_a/200+100 #rgb_g\n",
    "        sat_lab[i,j,2] = sat_lab_cs[i,j].lab_b/200+100 #rgb_b"
   ]
  },
  {
   "cell_type": "code",
   "execution_count": 2,
   "metadata": {
    "collapsed": false
   },
   "outputs": [
    {
     "ename": "NameError",
     "evalue": "name 'sat_rgb' is not defined",
     "output_type": "error",
     "traceback": [
      "\u001b[0;31m---------------------------------------------------------------------------\u001b[0m",
      "\u001b[0;31mNameError\u001b[0m                                 Traceback (most recent call last)",
      "\u001b[0;32m<ipython-input-2-108893d6383a>\u001b[0m in \u001b[0;36m<module>\u001b[0;34m()\u001b[0m\n\u001b[1;32m      7\u001b[0m \u001b[0mplt\u001b[0m\u001b[0;34m.\u001b[0m\u001b[0myticks\u001b[0m\u001b[0;34m(\u001b[0m\u001b[0;34m[\u001b[0m\u001b[0;34m]\u001b[0m\u001b[0;34m)\u001b[0m\u001b[0;34m\u001b[0m\u001b[0m\n\u001b[1;32m      8\u001b[0m \u001b[0mplt\u001b[0m\u001b[0;34m.\u001b[0m\u001b[0mxlabel\u001b[0m\u001b[0;34m(\u001b[0m\u001b[0;34mr'$RGB$ Full-Color Image'\u001b[0m\u001b[0;34m)\u001b[0m\u001b[0;34m\u001b[0m\u001b[0m\n\u001b[0;32m----> 9\u001b[0;31m \u001b[0mimshow\u001b[0m\u001b[0;34m(\u001b[0m\u001b[0msat_rgb\u001b[0m\u001b[0;34m)\u001b[0m\u001b[0;34m\u001b[0m\u001b[0m\n\u001b[0m\u001b[1;32m     10\u001b[0m \u001b[0;34m\u001b[0m\u001b[0m\n\u001b[1;32m     11\u001b[0m \u001b[0;31m# Red channel\u001b[0m\u001b[0;34m\u001b[0m\u001b[0;34m\u001b[0m\u001b[0m\n",
      "\u001b[0;31mNameError\u001b[0m: name 'sat_rgb' is not defined"
     ]
    },
    {
     "data": {
      "image/png": "[encoded data removed]",
      "text/plain": [
       "<matplotlib.figure.Figure at 0x1081889b0>"
      ]
     },
     "metadata": {},
     "output_type": "display_data"
    }
   ],
   "source": [
    "mpl.rcParams['figure.figsize']=(15,3)\n",
    "\n",
    "# Full-color image\n",
    "plt.figure()\n",
    "plt.subplot(1,4,1)\n",
    "plt.xticks([])\n",
    "plt.yticks([])\n",
    "plt.xlabel(r'$RGB$ Full-Color Image')\n",
    "imshow(sat_rgb)\n",
    "\n",
    "# Red channel\n",
    "cdict = {'red': ((0.0, 0.0, 0.0),\n",
    "                 (1.0, 1.0, 1.0)),\n",
    "         'green': ((0.0, 0.0, 0.0),\n",
    "                   (1.0, 0.0, 0.0)),\n",
    "         'blue': ((0.0, 0.0, 0.0),\n",
    "                  (1.0, 0.0, 0.0))}\n",
    "BkRd = mpl.colors.LinearSegmentedColormap('BkRd',cdict,256)\n",
    "plt.subplot(1,4,2)\n",
    "plt.xticks([])\n",
    "plt.yticks([])\n",
    "plt.xlabel(r'$R$')\n",
    "imshow(sat_rgb[:,:,0], cmap = BkRd)\n",
    "\n",
    "# Green channel\n",
    "cdict = {'red': ((0.0, 0.0, 0.0),\n",
    "                 (1.0, 0.0, 0.0)),\n",
    "         'green': ((0.0, 0.0, 0.0),\n",
    "                   (1.0, 1.0, 1.0)),\n",
    "         'blue': ((0.0, 0.0, 0.0),\n",
    "                  (1.0, 0.0, 0.0))}\n",
    "BkGn = mpl.colors.LinearSegmentedColormap('BkGn',cdict,256)\n",
    "plt.subplot(1,4,3)\n",
    "plt.xticks([])\n",
    "plt.yticks([])\n",
    "plt.xlabel(r'$G$')\n",
    "imshow(sat_rgb[:,:,1], cmap = BkGn)\n",
    "\n",
    "# Blue Channel\n",
    "cdict = {'red': ((0.0, 0.0, 0.0),\n",
    "                 (1.0, 0.0, 0.0)),\n",
    "         'green': ((0.0, 0.0, 0.0),\n",
    "                   (1.0, 0.0, 0.0)),\n",
    "         'blue': ((0.0, 0.0, 0.0),\n",
    "                  (1.0, 1.0, 1.0))}\n",
    "BkBl = mpl.colors.LinearSegmentedColormap('BkBl',cdict,256)\n",
    "plt.subplot(1,4,4)\n",
    "plt.xticks([])\n",
    "plt.yticks([])\n",
    "plt.xlabel(r'$B$')\n",
    "imshow(sat_rgb[:,:,2], cmap = BkBl)\n",
    "\n",
    "# Composite Lab image as RGB\n",
    "plt.figure()\n",
    "plt.subplot(1,4,1)\n",
    "plt.xticks([])\n",
    "plt.yticks([])\n",
    "plt.xlabel(r'Composite $Lab$ as $RGB$')\n",
    "imshow(sat_lab, origin='lower')\n",
    "\n",
    "# L - luminosity\n",
    "plt.subplot(1,4,2)\n",
    "plt.xticks([])\n",
    "plt.yticks([])\n",
    "plt.xlabel(r'$L$')\n",
    "imshow(sat_lab[:,:,0], cmap = cm.Greys_r)\n",
    "\n",
    "# a - red-green axis\n",
    "cdict = {'red': ((0.0, 0.0, 0.0),\n",
    "                 (1.0, 1.0, 1.0)),\n",
    "         'green': ((0.0, 1.0, 1.0),\n",
    "                   (1.0, 0.0, 0.0)),\n",
    "         'blue': ((0.0, 0.0, 0.0),\n",
    "                  (1.0, 0.0, 0.0))}\n",
    "RdGr = mpl.colors.LinearSegmentedColormap('RdGr',cdict,256)\n",
    "plt.subplot(1,4,3)\n",
    "plt.xticks([])\n",
    "plt.yticks([])\n",
    "plt.xlabel(r'$a$')\n",
    "imshow(sat_lab[:,:,1], cmap = RdGr)\n",
    "\n",
    "# b - blue-yellow axis\n",
    "cdict = {'red': ((0.0, 0.0, 0.0),\n",
    "                 (1.0, 1.0, 1.0)),\n",
    "         'green': ((0.0, 0.0, 0.0),\n",
    "                   (1.0, 1.0, 1.0)),\n",
    "         'blue': ((0.0, 1.0, 1.0),\n",
    "                  (1.0, 0.0, 0.0))}\n",
    "BlYw = mpl.colors.LinearSegmentedColormap('BlYw',cdict,256)\n",
    "plt.subplot(1,4,4)\n",
    "plt.xticks([])\n",
    "plt.yticks([])\n",
    "plt.xlabel(r'$b$')\n",
    "imshow(sat_lab[:,:,2], cmap = BlYw)"
   ]
  },
  {
   "cell_type": "code",
   "execution_count": null,
   "metadata": {
    "collapsed": false
   },
   "outputs": [],
   "source": [
    "# Classify each color into clusters using the K-means algorithm.\n",
    "from sklearn.cluster import KMeans\n",
    "ab = sat_lab[:,:,1:3];\n",
    "ab = np.reshape(ab,(sat_lab.shape[0]*sat_lab.shape[1],2));\n",
    "\n",
    "# How many major colors do you perceive?\n",
    "n_colors = 5\n",
    "\n",
    "# Cluster, repeating 10x to avoid local minima.\n",
    "kmeans = KMeans(n_clusters=n_colors, n_init=10)\n",
    "cluster_index = kmeans.fit_predict(ab)"
   ]
  },
  {
   "cell_type": "code",
   "execution_count": null,
   "metadata": {
    "collapsed": false
   },
   "outputs": [],
   "source": [
    "# Classify pixels by K-means cluster.\n",
    "pixel_labels = np.reshape(cluster_index,(sat_lab.shape[0],sat_lab.shape[1]))\n",
    "\n",
    "mpl.rcParams['figure.figsize']=(5,5)\n",
    "plt.figure\n",
    "plt.xticks([])\n",
    "plt.yticks([])\n",
    "imshow(pixel_labels, cmap = cm.Blues_r)"
   ]
  },
  {
   "cell_type": "code",
   "execution_count": null,
   "metadata": {
    "collapsed": false
   },
   "outputs": [],
   "source": [
    "# Segment the original image by color cluster.\n",
    "mpl.rcParams['figure.figsize']=(16,8)\n",
    "sat_seg = np.zeros((n_colors,sat_rgb.shape[0],sat_rgb.shape[1],sat_rgb.shape[2]))\n",
    "\n",
    "for k in range(n_colors):\n",
    "    color_index = np.where(pixel_labels == k)\n",
    "    sat_seg[k,color_index[0],color_index[1]] = sat_rgb[np.where(pixel_labels == k)]\n",
    "    \n",
    "    plt.subplot(2,np.ceil(n_colors/2),k+1)\n",
    "    plt.xticks([])\n",
    "    plt.yticks([])\n",
    "    imshow(sat_seg[k])\n",
    "plt.tight_layout()"
   ]
  }
 ],
 "metadata": {
  "kernelspec": {
   "display_name": "Python 3",
   "language": "python",
   "name": "python3"
  },
  "language_info": {
   "codemirror_mode": {
    "name": "ipython",
    "version": 3
   },
   "file_extension": ".py",
   "mimetype": "text/x-python",
   "name": "python",
   "nbconvert_exporter": "python",
   "pygments_lexer": "ipython3",
   "version": "3.4.3"
  }
 },
 "nbformat": 4,
 "nbformat_minor": 0
}
