{
 "cells": [
  {
   "cell_type": "markdown",
   "metadata": {},
   "source": [
    "<h1 align=\"center\">Structuring your Project!</h1> "
   ]
  },
  {
   "cell_type": "markdown",
   "metadata": {},
   "source": [
    "By “structure” we mean the decisions you make concerning how your project best meets its objective. We need to consider how to best leverage Python’s features to create clean, effective code. In practical terms, “structure” means making clean code whose logic and dependencies are clear as well as how the files and folders are organized in the filesystem.\n",
    "\n",
    "Which functions should go into which modules? How does data flow through the project? What features and functions can be grouped together and isolated? By answering questions like these you can begin to plan, in a broad sense, what your finished product will look like.\n",
    "\n",
    "In this section we take a closer look at Python’s module and import systems as they are the central elements to enforcing structure in your project. We then discuss various perspectives on how to build code which can be extended and tested reliably.\n",
    "\n",
    "When a potential user or contributor lands on your repository’s page, they see a few things:\n",
    "\n",
    "+ Project Name\n",
    "+ Project Description\n",
    "+ Bunch O’ Files\n",
    "\n",
    "Only when they scroll below the fold will the user see your project’s README.\n",
    "\n",
    "This lists the sample architecture we envisage for a python project -> https://github.com/kennethreitz/samplemod"
   ]
  },
  {
   "cell_type": "markdown",
   "metadata": {},
   "source": [
    "### The Actual Module (Purpose - The code of interest)\n",
    "** Location ** - In root folder if code is a single file, else in a folder. \"sample\" folder is used to store the actual module in our case.\n",
    "+ Your module package is the core focus of the repository. It should not be tucked away!\n",
    "+ If your module consists of only a single file, you can place it directly in the root of your repository\n",
    "\n",
    "__init__.py - Packages are namespaces which contain multiple packages and modules themselves. Each package in Python is a directory which MUST contain a special file called __init__.py. This file can be empty, and it indicates that the directory it contains is a Python package, so it can be imported the same way a module can be imported. "
   ]
  },
  {
   "cell_type": "markdown",
   "metadata": {},
   "source": [
    "### License (Purpose - Lawyering up)\n",
    "** Location ** - In root folder.\n",
    "\n",
    "This is arguably the most important part of your repository, aside from the source code itself. The full license text and copyright claims should exist in this file. If you aren’t sure which license you should use for your project, check out http://www.choosealicense.com"
   ]
  },
  {
   "cell_type": "markdown",
   "metadata": {},
   "source": [
    "### Setup.py (Purpose - Package and distribution management)\n",
    "If your module package is at the root of your repository, this should obviously be at the root as well."
   ]
  },
  {
   "cell_type": "markdown",
   "metadata": {},
   "source": [
    "### Requirements File (Purpose - To specify development dependencies)\n",
    "** Location **- A pip requirements file should be placed at the root of the repository. \n",
    "\n",
    "It should specify the dependencies required to contribute to the project: testing, building, and generating documentation. \n",
    "\n",
    "An example can be found here -> https://pip.pypa.io/en/stable/user_guide/#requirements-files"
   ]
  },
  {
   "cell_type": "markdown",
   "metadata": {},
   "source": [
    "### Documentation (Purpose - Package reference documentation)\n",
    "** Location **- A separate folder called docs in the root generally contains documentation of the project."
   ]
  },
  {
   "cell_type": "markdown",
   "metadata": {},
   "source": [
    "### Test Suite (Purpose - Package integration and unit tests)\n",
    "Starting out, a small test suite will often exist in a single file. Once a test suite grows, you can move your tests to a directory."
   ]
  },
  {
   "cell_type": "markdown",
   "metadata": {},
   "source": [
    "### Makefile (Purpose - Generic management tasks)\n",
    "** Sample Makefile **\n",
    "\n",
    "init:\n",
    "    \n",
    "    pip install -r requirements.txt\n",
    "\n",
    "test:\n",
    "\n",
    "    py.test tests"
   ]
  },
  {
   "cell_type": "markdown",
   "metadata": {
    "collapsed": true
   },
   "source": [
    "<h3 align=\"center\">Important How To - Creating tests for your code</h3>"
   ]
  },
  {
   "cell_type": "markdown",
   "metadata": {},
   "source": [
    "Some general rules of testing:\n",
    "\n",
    "+ A testing unit should focus on one tiny bit of functionality and prove it correct.\n",
    "+ Each test unit must be fully independent. \n",
    "     - Each of them must be able to run alone, and also within the test suite, regardless of the order they are called. \n",
    "     - The implication of this rule is that each test must be loaded with a fresh dataset and may have to do some cleanup afterwards. This is usually handled by setUp() and tearDown() methods.\n",
    "+ Try hard to make tests that run fast. If one single test needs more than a few milliseconds to run, development will be slowed down or the tests will not be run as often as is desirable. \n",
    "    - If this is not possible, keep the heavier tests in a separate test suite that is run by some scheduled task, and run all other tests as often as needed.\n",
    "+ Learn your tools and learn how to run a single test or a test case. Then, when developing a function inside a module, run this function’s tests very often, ideally automatically when you save the code.\n",
    "+ Always run the full test suite before a coding session, and run it again after. This will give you more confidence that you did not break anything in the rest of the code.\n",
    "+ It is a good idea to implement a hook that runs all tests before pushing code to a shared repository.\n",
    "+ If you are in the middle of a development session and have to interrupt your work, it is a good idea to write a broken unit test about what you want to develop next. When coming back to work, you will have a pointer to where you were and get back on track faster.\n",
    "+ The first step when you are debugging your code is to write a new test pinpointing the bug. While it is not always possible to do, those bug catching tests are among the most valuable pieces of code in your project.\n",
    "+ Use long and descriptive names for testing functions. The function names are displayed when a test fails, and should be as descriptive as possible."
   ]
  },
  {
   "cell_type": "markdown",
   "metadata": {},
   "source": [
    "** Unittest ** - It is the batteries-included test module in the Python standard library. Creating test cases is accomplished by subclassing unittest.TestCase."
   ]
  },
  {
   "cell_type": "code",
   "execution_count": 1,
   "metadata": {
    "collapsed": false
   },
   "outputs": [
    {
     "name": "stderr",
     "output_type": "stream",
     "text": [
      "usage: __main__.py [-h] [-v] [-q] [-f] [-c] [-b] [tests [tests ...]]\n",
      "__main__.py: error: unrecognized arguments: --profile-dir /Users/rstein/.ipython/profile_default\n"
     ]
    },
    {
     "ename": "SystemExit",
     "evalue": "2",
     "output_type": "error",
     "traceback": [
      "An exception has occurred, use %tb to see the full traceback.\n",
      "\u001b[0;31mSystemExit\u001b[0m\u001b[0;31m:\u001b[0m 2\n"
     ]
    },
    {
     "name": "stderr",
     "output_type": "stream",
     "text": [
      "To exit: use 'exit', 'quit', or Ctrl-D.\n"
     ]
    }
   ],
   "source": [
    "import unittest\n",
    "\n",
    "def fun(x):\n",
    "    return x + 1\n",
    "\n",
    "class MyTest(unittest.TestCase):\n",
    "    def test(self):\n",
    "        self.assertEqual(fun(3), 4)\n",
    "        \n",
    "if __name__ == '__main__':\n",
    "    unittest.main()"
   ]
  },
  {
   "cell_type": "markdown",
   "metadata": {},
   "source": [
    "** Doctest ** - The doctest module searches for pieces of text that look like interactive Python sessions in docstrings, and then executes those sessions to verify that they work exactly as shown."
   ]
  },
  {
   "cell_type": "code",
   "execution_count": 2,
   "metadata": {
    "collapsed": false
   },
   "outputs": [
    {
     "data": {
      "text/plain": [
       "TestResults(failed=0, attempted=2)"
      ]
     },
     "execution_count": 2,
     "metadata": {},
     "output_type": "execute_result"
    }
   ],
   "source": [
    "def square(x):\n",
    "    \"\"\"Return the square of x.\n",
    "\n",
    "    >>> square(2)\n",
    "    4\n",
    "    >>> square(-2)\n",
    "    4\n",
    "    \"\"\"\n",
    "\n",
    "    return x * x\n",
    "\n",
    "import doctest\n",
    "doctest.testmod()"
   ]
  },
  {
   "cell_type": "markdown",
   "metadata": {},
   "source": [
    "<h3 align=\"center\">Important How To - Linting with Python</h3>"
   ]
  },
  {
   "cell_type": "markdown",
   "metadata": {},
   "source": [
    "Pylint warns you about many potential problems with your code. The first you’ll probably notice are naming conventions."
   ]
  },
  {
   "cell_type": "code",
   "execution_count": 3,
   "metadata": {
    "collapsed": false
   },
   "outputs": [
    {
     "name": "stdout",
     "output_type": "stream",
     "text": [
      "Collecting pylint\n",
      "  Downloading pylint-1.5.5-py2.py3-none-any.whl (549kB)\n",
      "Collecting astroid<1.5.0,>=1.4.5 (from pylint)\n",
      "  Downloading astroid-1.4.5-py2.py3-none-any.whl (211kB)\n",
      "Requirement already satisfied (use --upgrade to upgrade): six in c:\\users\\nsrivas3\\appdata\\local\\continuum\\anaconda2\\lib\\site-packages (from pylint)\n",
      "Requirement already satisfied (use --upgrade to upgrade): colorama in c:\\users\\nsrivas3\\appdata\\local\\continuum\\anaconda2\\lib\\site-packages (from pylint)\n",
      "Collecting lazy-object-proxy (from astroid<1.5.0,>=1.4.5->pylint)\n",
      "  Downloading lazy_object_proxy-1.2.2-cp27-cp27m-win_amd64.whl\n",
      "Collecting wrapt (from astroid<1.5.0,>=1.4.5->pylint)\n",
      "  Downloading wrapt-1.10.8.tar.gz\n",
      "Building wheels for collected packages: wrapt\n",
      "  Running setup.py bdist_wheel for wrapt: started\n",
      "  Running setup.py bdist_wheel for wrapt: finished with status 'done'\n",
      "  Stored in directory: C:\\Users\\nsrivas3\\AppData\\Local\\pip\\Cache\\wheels\\19\\8a\\01\\20cf74c3f38d49ef8e9b9aa7ffd38cefff79bad9f6f2c651f0\n",
      "Successfully built wrapt\n",
      "Installing collected packages: lazy-object-proxy, wrapt, astroid, pylint\n",
      "Successfully installed astroid-1.4.5 lazy-object-proxy-1.2.2 pylint-1.5.5 wrapt-1.10.8\n"
     ]
    }
   ],
   "source": [
    "# !pip install pylint\n",
    "import pylint"
   ]
  },
  {
   "cell_type": "code",
   "execution_count": 5,
   "metadata": {
    "collapsed": false
   },
   "outputs": [
    {
     "name": "stdout",
     "output_type": "stream",
     "text": [
      "Writing egg.py\n"
     ]
    }
   ],
   "source": [
    "%%writefile egg.py\n",
    "def spam(eggs=[]):\n",
    "    eggs.append(\"spam\")\n",
    "    return eggs"
   ]
  },
  {
   "cell_type": "code",
   "execution_count": 8,
   "metadata": {
    "collapsed": false
   },
   "outputs": [
    {
     "name": "stdout",
     "output_type": "stream",
     "text": [
      "************* Module egg\n",
      "C:  3, 0: Final newline missing (missing-final-newline)\n",
      "C:  1, 0: Missing module docstring (missing-docstring)\n",
      "W:  1, 0: Dangerous default value [] as argument (dangerous-default-value)\n",
      "C:  1, 0: Missing function docstring (missing-docstring)\n",
      "\n",
      "\n",
      "\n",
      "Report\n",
      "\n",
      "======\n",
      "\n",
      "3 statements analysed.\n",
      "\n",
      "\n",
      "\n",
      "Statistics by type\n",
      "\n",
      "------------------\n",
      "\n",
      "\n",
      "+---------+-------+-----------+-----------+------------+---------+\n",
      "|type     |number |old number |difference |%documented |%badname |\n",
      "+=========+=======+===========+===========+============+=========+\n",
      "|module   |1      |NC         |NC         |0.00        |0.00     |\n",
      "+---------+-------+-----------+-----------+------------+---------+\n",
      "|class    |0      |NC         |NC         |0           |0        |\n",
      "+---------+-------+-----------+-----------+------------+---------+\n",
      "|method   |0      |NC         |NC         |0           |0        |\n",
      "+---------+-------+-----------+-----------+------------+---------+\n",
      "|function |1      |NC         |NC         |0.00        |0.00     |\n",
      "+---------+-------+-----------+-----------+------------+---------+\n",
      "\n",
      "\n",
      "\n",
      "\n",
      "\n",
      "\n",
      "Raw metrics\n",
      "\n",
      "-----------\n",
      "\n",
      "\n",
      "+----------+-------+-------+---------+-----------+\n",
      "|type      |number |%      |previous |difference |\n",
      "+==========+=======+=======+=========+===========+\n",
      "|code      |4      |100.00 |NC       |NC         |\n",
      "+----------+-------+-------+---------+-----------+\n",
      "|docstring |0      |0.00   |NC       |NC         |\n",
      "+----------+-------+-------+---------+-----------+\n",
      "|comment   |0      |0.00   |NC       |NC         |\n",
      "+----------+-------+-------+---------+-----------+\n",
      "|empty     |0      |0.00   |NC       |NC         |\n",
      "+----------+-------+-------+---------+-----------+\n",
      "\n",
      "\n",
      "\n",
      "\n",
      "\n",
      "\n",
      "Duplication\n",
      "\n",
      "-----------\n",
      "\n",
      "\n",
      "+-------------------------+------+---------+-----------+\n",
      "|                         |now   |previous |difference |\n",
      "+=========================+======+=========+===========+\n",
      "|nb duplicated lines      |0     |NC       |NC         |\n",
      "+-------------------------+------+---------+-----------+\n",
      "|percent duplicated lines |0.000 |NC       |NC         |\n",
      "+-------------------------+------+---------+-----------+\n",
      "\n",
      "\n",
      "\n",
      "\n",
      "\n",
      "\n",
      "Messages by category\n",
      "\n",
      "--------------------\n",
      "\n",
      "\n",
      "+-----------+-------+---------+-----------+\n",
      "|type       |number |previous |difference |\n",
      "+===========+=======+=========+===========+\n",
      "|convention |3      |NC       |NC         |\n",
      "+-----------+-------+---------+-----------+\n",
      "|refactor   |0      |NC       |NC         |\n",
      "+-----------+-------+---------+-----------+\n",
      "|warning    |1      |NC       |NC         |\n",
      "+-----------+-------+---------+-----------+\n",
      "|error      |0      |NC       |NC         |\n",
      "+-----------+-------+---------+-----------+\n",
      "\n",
      "\n",
      "\n",
      "\n",
      "\n",
      "\n",
      "Messages\n",
      "\n",
      "--------\n",
      "\n",
      "\n",
      "+------------------------+------------+\n",
      "|message id              |occurrences |\n",
      "+========================+============+\n",
      "|missing-docstring       |2           |\n",
      "+------------------------+------------+\n",
      "|missing-final-newline   |1           |\n",
      "+------------------------+------------+\n",
      "|dangerous-default-value |1           |\n",
      "+------------------------+------------+\n",
      "\n",
      "\n",
      "\n",
      "\n",
      "\n",
      "\n",
      "Global evaluation\n",
      "\n",
      "-----------------\n",
      "\n",
      "Your code has been rated at -3.33/10\n",
      "\n",
      "\n",
      "\n"
     ]
    },
    {
     "name": "stderr",
     "output_type": "stream",
     "text": [
      "No config file found, using default configuration\n"
     ]
    }
   ],
   "source": [
    "!pylint egg.py"
   ]
  },
  {
   "cell_type": "markdown",
   "metadata": {},
   "source": [
    "<h3 align=\"center\">Important How To - OS Agnostic Coding</h3>"
   ]
  },
  {
   "cell_type": "code",
   "execution_count": 18,
   "metadata": {
    "collapsed": false
   },
   "outputs": [
    {
     "name": "stdout",
     "output_type": "stream",
     "text": [
      "..\n",
      "C:\\Users\\nsrivas3\\OneDrive\\Documents\\UIUC - Industrial Engineering\\Sem4\\TAship\\Python - CSE\\python\\lessons\\nitin\n"
     ]
    }
   ],
   "source": [
    "import os #os library has a suite of functions to help you navigate in filesystems regardless of the os you are working on\n",
    "print(os.pardir) # The constant string used by the operating system to refer to the parent directory\n",
    "print(os.path.join(os.getcwd(), \"nitin\")) # join is used to navigate to subfolders, getcwd() returns current working directory"
   ]
  }
 ],
 "metadata": {
  "kernelspec": {
   "display_name": "Python 3",
   "language": "python",
   "name": "python3"
  },
  "language_info": {
   "codemirror_mode": {
    "name": "ipython",
    "version": 3
   },
   "file_extension": ".py",
   "mimetype": "text/x-python",
   "name": "python",
   "nbconvert_exporter": "python",
   "pygments_lexer": "ipython3",
   "version": "3.4.3"
  }
 },
 "nbformat": 4,
 "nbformat_minor": 0
}
